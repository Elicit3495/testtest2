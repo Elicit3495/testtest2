{
 "cells": [
  {
   "cell_type": "code",
   "execution_count": 22,
   "id": "1de915e3",
   "metadata": {},
   "outputs": [],
   "source": [
    "from selenium import webdriver\n",
    "from selenium.webdriver.common.keys import Keys\n",
    "from selenium.webdriver.common.by import By"
   ]
  },
  {
   "cell_type": "code",
   "execution_count": 23,
   "id": "88ccebf1",
   "metadata": {},
   "outputs": [],
   "source": [
    "driver = webdriver.Chrome(executable_path=r'C:\\Users\\User\\Documents\\GitHub\\starblast\\chromedriver-win64\\chromedriver.exe')"
   ]
  },
  {
   "cell_type": "code",
   "execution_count": 24,
   "id": "dbbef9ad",
   "metadata": {},
   "outputs": [],
   "source": [
    "driver.get(\"https://testtest2-seven.vercel.app/\")\n",
    "driver.find_element(By.ID,\"Asia\").click()\n",
    "driver.find_element(By.ID,\"survivalMode\").click()\n",
    "driver.find_element(By.ID,\"deathmatchMode\").click()\n",
    "driver.find_element(By.ID,\"moddingMode\").click()\n",
    "driver.find_element(By.ID,\"customMode\").click()"
   ]
  },
  {
   "cell_type": "code",
   "execution_count": 25,
   "id": "329221be",
   "metadata": {},
   "outputs": [],
   "source": [
    "import requests\n",
    "import json\n",
    "import time"
   ]
  },
  {
   "cell_type": "code",
   "execution_count": 211,
   "id": "61de1e66",
   "metadata": {},
   "outputs": [],
   "source": [
    "cancer_list = ['🏆😈₭₦Ř₷⚡₭ƗLLĔŘ', 'CREAZYGAMERS', 'CREAZYGAMES', 'CANNON', 'HKTSKY', 'QL', '꧁༒•THEKING•༒꧂',\n",
    "              'ASPECT', 'ASIAN JOHN CENA', '乃卂ㄥㄥ丂', 'SPRINGBANK', '🆗🄶🄾🄾🄶🄻🄴', 'A']"
   ]
  },
  {
   "cell_type": "code",
   "execution_count": 221,
   "id": "f14a32c7",
   "metadata": {},
   "outputs": [],
   "source": [
    "def click(path):\n",
    "    '''\n",
    "    this function takes in a path, clicks on the card-body\n",
    "    '''\n",
    "    element = driver.find_element(By.XPATH, path)\n",
    "    element.click()"
   ]
  },
  {
   "cell_type": "code",
   "execution_count": 219,
   "id": "9d0fb624",
   "metadata": {},
   "outputs": [],
   "source": [
    "def playerfinder():\n",
    "    '''\n",
    "    searches through a box, finds the toxic players, returns the players' name, game id and game time\n",
    "    '''\n",
    "    k = driver.find_element(By.ID, 'SR_PlayerList').text\n",
    "    k = k.split(', ')\n",
    "    player_list = [x for x in k if x in cancer_list]\n",
    "    new_list = []\n",
    "    for i in player_list:\n",
    "        if i != '':\n",
    "            game_id = driver.find_element(By.ID, 'SR_ID').text\n",
    "            game_time = driver.find_element(By.ID, 'SR_Time').text\n",
    "            new_list.append((game_id, game_time))\n",
    "    return player_list, new_list"
   ]
  },
  {
   "cell_type": "code",
   "execution_count": 213,
   "id": "f18e641d",
   "metadata": {},
   "outputs": [
    {
     "name": "stdout",
     "output_type": "stream",
     "text": [
      "['A']\n",
      "#5773\n"
     ]
    }
   ],
   "source": [
    "k = driver.find_element(By.ID, 'SR_PlayerList').text\n",
    "k = k.split(', ')\n",
    "player_list = [x for x in k if x in cancer_list]\n",
    "print(player_list)\n",
    "new_list = []\n",
    "for i in player_list:\n",
    "    if i != '':\n",
    "        game_id = driver.find_element(By.ID, 'SR_ID').text\n",
    "        new_list.append(game_id)\n",
    "        print(game_id)"
   ]
  },
  {
   "cell_type": "code",
   "execution_count": 195,
   "id": "e71ab53c",
   "metadata": {},
   "outputs": [
    {
     "data": {
      "text/plain": [
       "([], [], [''])"
      ]
     },
     "execution_count": 195,
     "metadata": {},
     "output_type": "execute_result"
    }
   ],
   "source": [
    "click('/html/body/div[5]/div/div[2]/div[2]/div[1]')"
   ]
  },
  {
   "cell_type": "code",
   "execution_count": 189,
   "id": "a3c9d0b8",
   "metadata": {},
   "outputs": [
    {
     "name": "stdout",
     "output_type": "stream",
     "text": [
      "['']\n"
     ]
    }
   ],
   "source": [
    "element = driver.find_element(By.XPATH, '/html/body/div[5]/div/div[2]/div[2]/div[1]')\n",
    "element.click()\n",
    "k = driver.find_element(By.ID, 'SR_PlayerList').text\n",
    "k = k.split(', ')\n",
    "print(k)\n",
    "# player_list = [x for x in k if x in cancer_list]\n",
    "# return player_list, k"
   ]
  },
  {
   "cell_type": "code",
   "execution_count": 188,
   "id": "67769085",
   "metadata": {},
   "outputs": [
    {
     "data": {
      "text/plain": [
       "['ZAPHOD',\n",
       " 'YUGO AMARYL',\n",
       " 'YUGO AMARYL',\n",
       " 'SOUTH KOREA',\n",
       " '7777777',\n",
       " 'HARI SELDON',\n",
       " 'RAYCH SELDON',\n",
       " 'HAJHHO',\n",
       " '[KOR]NONAME',\n",
       " 'SPRO',\n",
       " '🆗🄶🄾🄾🄶🄻🄴',\n",
       " 'みみみ',\n",
       " 'GARMEN',\n",
       " 'GALECTICAL',\n",
       " 'WICKED SPACE',\n",
       " 'HELPER',\n",
       " 'ㄒㄒ 喔',\n",
       " 'RAYCH SELDON',\n",
       " 'REY',\n",
       " 'XENO',\n",
       " 'LΞMФИ',\n",
       " '067',\n",
       " 'LIM',\n",
       " 'DORS VENABILI',\n",
       " 'HARI SELDON',\n",
       " 'LYTA ALEXANDER',\n",
       " 'PRO UJJWAL SIKE ',\n",
       " '🚀',\n",
       " 'CAMERAMAN KIRITO',\n",
       " 'HARI SELDON',\n",
       " '[KOR]WOORI',\n",
       " 'VADER',\n",
       " 'ZODIAC',\n",
       " '♟',\n",
       " \"/'.;;L/;L,XNXX\",\n",
       " 'タンク２２',\n",
       " 'PREEM PALVER',\n",
       " 'CLEON I',\n",
       " 'A',\n",
       " 'VNVD',\n",
       " 'ZAPHOD',\n",
       " 'SUPERMAN',\n",
       " 'ACKBAR',\n",
       " 'HENRY',\n",
       " 'EBLING MIS',\n",
       " '殺手',\n",
       " 'STEPHEN FRANKLIN']"
      ]
     },
     "execution_count": 188,
     "metadata": {},
     "output_type": "execute_result"
    }
   ],
   "source": [
    "k = driver.find_element(By.ID, 'SR_PlayerList').text\n",
    "k = k.split(', ')\n",
    "k"
   ]
  },
  {
   "cell_type": "code",
   "execution_count": 185,
   "id": "9f3b6317",
   "metadata": {},
   "outputs": [
    {
     "data": {
      "text/plain": [
       "['ZAPHOD',\n",
       " 'YUGO AMARYL',\n",
       " 'YUGO AMARYL',\n",
       " 'SOUTH KOREA',\n",
       " '7777777',\n",
       " 'HARI SELDON',\n",
       " 'RAYCH SELDON',\n",
       " 'HAJHHO',\n",
       " '[KOR]NONAME',\n",
       " 'SPRO',\n",
       " '🆗🄶🄾🄾🄶🄻🄴',\n",
       " 'みみみ',\n",
       " 'GARMEN',\n",
       " 'GALECTICAL',\n",
       " 'WICKED SPACE',\n",
       " 'HELPER',\n",
       " 'ㄒㄒ 喔',\n",
       " 'RAYCH SELDON',\n",
       " 'REY',\n",
       " 'XENO',\n",
       " 'LΞMФИ',\n",
       " '067',\n",
       " 'LIM',\n",
       " 'DORS VENABILI',\n",
       " 'HARI SELDON',\n",
       " 'LYTA ALEXANDER',\n",
       " 'PRO UJJWAL SIKE ',\n",
       " '🚀',\n",
       " 'CAMERAMAN KIRITO',\n",
       " 'HARI SELDON',\n",
       " '[KOR]WOORI',\n",
       " 'VADER',\n",
       " 'ZODIAC',\n",
       " '♟',\n",
       " \"/'.;;L/;L,XNXX\",\n",
       " 'タンク２２',\n",
       " 'PREEM PALVER',\n",
       " 'CLEON I',\n",
       " 'A',\n",
       " 'VNVD',\n",
       " 'ZAPHOD',\n",
       " 'SUPERMAN']"
      ]
     },
     "execution_count": 185,
     "metadata": {},
     "output_type": "execute_result"
    }
   ],
   "source": [
    "b = driver.find_element(By.ID, 'SR_PlayerList').text\n",
    "b = b.split(', ')\n",
    "b"
   ]
  },
  {
   "cell_type": "code",
   "execution_count": 161,
   "id": "c00ace62",
   "metadata": {},
   "outputs": [
    {
     "data": {
      "text/plain": [
       "['🆗🄶🄾🄾🄶🄻🄴', 'QL']"
      ]
     },
     "execution_count": 161,
     "metadata": {},
     "output_type": "execute_result"
    }
   ],
   "source": [
    "player_list = [x for x in k if x in cancer_list]\n",
    "player_list"
   ]
  },
  {
   "cell_type": "code",
   "execution_count": 103,
   "id": "f9ce3a47",
   "metadata": {},
   "outputs": [],
   "source": [
    "# element = driver.find_element(By.XPATH, '/html/body/div[5]/div/div[2]/div[2]/div')\n",
    "element = driver.find_element(By.XPATH, '/html/body/div[5]/div/div[2]/div[2]/div[1]')\n",
    "# element.text"
   ]
  },
  {
   "cell_type": "code",
   "execution_count": 101,
   "id": "5e0a7f2c",
   "metadata": {},
   "outputs": [
    {
     "data": {
      "text/plain": [
       "'Omega Vetiradem\\n29 min\\nTeam Mode\\n25 players'"
      ]
     },
     "execution_count": 101,
     "metadata": {},
     "output_type": "execute_result"
    }
   ],
   "source": [
    "element.text"
   ]
  },
  {
   "cell_type": "code",
   "execution_count": 99,
   "id": "80fd5822",
   "metadata": {},
   "outputs": [],
   "source": [
    "element.click()"
   ]
  },
  {
   "cell_type": "code",
   "execution_count": 90,
   "id": "afd1967a",
   "metadata": {},
   "outputs": [
    {
     "name": "stdout",
     "output_type": "stream",
     "text": [
      "#5409\n"
     ]
    }
   ],
   "source": [
    "new_element = driver.find_element(By.ID, 'SR_ID')\n",
    "print(new_element.text)"
   ]
  },
  {
   "cell_type": "code",
   "execution_count": 281,
   "id": "e93113e5",
   "metadata": {},
   "outputs": [
    {
     "name": "stdout",
     "output_type": "stream",
     "text": [
      "115 Electaria\n",
      "3 min\n",
      "Team Mode\n",
      "12 players\n",
      "115 Electaria\n",
      "3 min\n",
      "Team Mode\n",
      "12 players\n",
      "115 Electaria\n",
      "3 min\n",
      "3 min\n",
      "Team Mode\n",
      "12 players\n",
      "\n",
      "12 players\n",
      "Antameimar\n",
      "13 min\n",
      "Team Mode\n",
      "34 players\n",
      "Antameimar\n",
      "13 min\n",
      "Team Mode\n",
      "34 players\n",
      "Antameimar\n",
      "13 min\n",
      "13 min\n",
      "Team Mode\n",
      "34 players\n",
      "\n",
      "34 players\n",
      "2 Asteraphos\n",
      "28 min\n",
      "Team Mode\n",
      "24 players\n",
      "2 Asteraphos\n",
      "28 min\n",
      "Team Mode\n",
      "24 players\n",
      "2 Asteraphos\n",
      "28 min\n",
      "28 min\n",
      "Team Mode\n",
      "24 players\n",
      "\n",
      "24 players\n"
     ]
    }
   ],
   "source": [
    "child_elements = element.find_elements(By.XPATH, \".//*\")\n",
    "for i in child_elements:\n",
    "    print(i.text)"
   ]
  },
  {
   "cell_type": "code",
   "execution_count": 7,
   "id": "76d5a148",
   "metadata": {},
   "outputs": [
    {
     "name": "stdout",
     "output_type": "stream",
     "text": [
      "[]\n",
      "\n"
     ]
    }
   ],
   "source": [
    "timeout = 10\n",
    "try:\n",
    "    element = driver.find_element(By.ID, \"SR_PlayerList\")\n",
    "#     element2 = driver.find_element(By.ID, \"\")# Replace \"your-element-id\" with the actual ID of the element\n",
    "    # Alternatively, you can use By.CLASS_NAME to locate an element by its class.\n",
    "\n",
    "    # Extract data from the element\n",
    "    data = element.text\n",
    "    new_data = [x for x in data if x in cancer_list]\n",
    "    print(new_data)\n",
    "    print(data)\n",
    "except Exception as e:\n",
    "    print(\"error\")"
   ]
  },
  {
   "cell_type": "code",
   "execution_count": 145,
   "id": "e9fdc815",
   "metadata": {},
   "outputs": [],
   "source": [
    "new_test = driver.find_elements(By.ID, \"systemsListContainer\")"
   ]
  },
  {
   "cell_type": "code",
   "execution_count": 147,
   "id": "5e8d7a2f",
   "metadata": {},
   "outputs": [
    {
     "name": "stdout",
     "output_type": "stream",
     "text": [
      "Share custom game\n",
      "3 Achernaecis\n",
      "0 min\n",
      "Modding Space - SRC\n",
      "1 players\n",
      "Antabaldonis\n",
      "1 min\n",
      "Modding Space - Nautic Series\n",
      "4 players\n",
      "Boremeireo\n",
      "23 min\n",
      "Team Mode\n",
      "15 players\n",
      "17 Albeilaris\n",
      "24 min\n",
      "Survival Mode\n",
      "11 players\n",
      "Alpha Stellades\n",
      "54 min\n",
      "Team Mode\n",
      "9 players\n"
     ]
    }
   ],
   "source": [
    "for i in new_test:\n",
    "    print(i.text)"
   ]
  },
  {
   "cell_type": "code",
   "execution_count": 123,
   "id": "fa32b868",
   "metadata": {},
   "outputs": [],
   "source": [
    "#first, for every element in systemsList, click on the element\n"
   ]
  },
  {
   "cell_type": "code",
   "execution_count": 229,
   "id": "def4822b",
   "metadata": {},
   "outputs": [
    {
     "name": "stdout",
     "output_type": "stream",
     "text": [
      "2 Asteraphos\n",
      "5 min\n",
      "Team Mode\n",
      "25 players\n",
      "Omega Praetiafar\n",
      "20 min\n",
      "Team Mode\n",
      "41 players\n",
      "Vemeiraph\n",
      "32 min\n",
      "Team Mode\n",
      "28 players\n"
     ]
    }
   ],
   "source": [
    "# card_body = driver.find_element_by_class_name(\"card system-list-item mb-3\")\n",
    "# buttons = driver.find_elements(By.CLASS_NAME, \"card system-list-item mb-3\")\n",
    "buttons = driver.find_elements(By.ID, \"systemsList\")\n",
    "for i in buttons:\n",
    "    print(i.text)\n",
    "    i.click"
   ]
  },
  {
   "cell_type": "code",
   "execution_count": null,
   "id": "d39803d9",
   "metadata": {},
   "outputs": [],
   "source": [
    "game_name = driver.find_elements(By.ID,)"
   ]
  },
  {
   "cell_type": "code",
   "execution_count": 153,
   "id": "b8d77bad",
   "metadata": {},
   "outputs": [],
   "source": [
    "popup_element = driver.find_element(By.ID, \"SR_PlayerList\")"
   ]
  },
  {
   "cell_type": "code",
   "execution_count": 154,
   "id": "7954160e",
   "metadata": {},
   "outputs": [
    {
     "data": {
      "text/plain": [
       "''"
      ]
     },
     "execution_count": 154,
     "metadata": {},
     "output_type": "execute_result"
    }
   ],
   "source": [
    "popup_element.text\n"
   ]
  },
  {
   "cell_type": "code",
   "execution_count": null,
   "id": "66aaa9db",
   "metadata": {},
   "outputs": [],
   "source": []
  }
 ],
 "metadata": {
  "kernelspec": {
   "display_name": "Python 3 (ipykernel)",
   "language": "python",
   "name": "python3"
  },
  "language_info": {
   "codemirror_mode": {
    "name": "ipython",
    "version": 3
   },
   "file_extension": ".py",
   "mimetype": "text/x-python",
   "name": "python",
   "nbconvert_exporter": "python",
   "pygments_lexer": "ipython3",
   "version": "3.8.16"
  }
 },
 "nbformat": 4,
 "nbformat_minor": 5
}
