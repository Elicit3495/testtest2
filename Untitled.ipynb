{
 "cells": [
  {
   "cell_type": "code",
   "execution_count": 23,
   "id": "1de915e3",
   "metadata": {},
   "outputs": [],
   "source": [
    "from selenium import webdriver\n",
    "from selenium.webdriver.common.keys import Keys\n",
    "from selenium.webdriver.common.by import By\n",
    "from selenium.webdriver.support.ui import WebDriverWait\n",
    "from selenium.webdriver.support import expected_conditions as EC\n",
    "import requests\n",
    "import json\n",
    "import time"
   ]
  },
  {
   "cell_type": "code",
   "execution_count": 2,
   "id": "88ccebf1",
   "metadata": {},
   "outputs": [],
   "source": [
    "driver = webdriver.Chrome(executable_path=r'C:\\Users\\User\\Documents\\GitHub\\starblast\\chromedriver-win64\\chromedriver.exe')"
   ]
  },
  {
   "cell_type": "code",
   "execution_count": 3,
   "id": "dbbef9ad",
   "metadata": {},
   "outputs": [],
   "source": [
    "driver.get(\"https://testtest2-seven.vercel.app/\")\n",
    "driver.find_element(By.ID,\"Asia\").click()\n",
    "driver.find_element(By.ID,\"survivalMode\").click()\n",
    "driver.find_element(By.ID,\"deathmatchMode\").click()\n",
    "driver.find_element(By.ID,\"moddingMode\").click()\n",
    "driver.find_element(By.ID,\"customMode\").click()"
   ]
  },
  {
   "cell_type": "code",
   "execution_count": 5,
   "id": "61de1e66",
   "metadata": {},
   "outputs": [],
   "source": [
    "cancer_list = ['🏆😈₭₦Ř₷⚡₭ƗLLĔŘ', 'CREAZYGAMERS', 'CREAZYGAMES', 'CANNON', 'HKTSKY', 'QL', '꧁༒•THEKING•༒꧂',\n",
    "              'ASPECT', 'ASIAN JOHN CENA', '乃卂ㄥㄥ丂', 'SPRINGBANK', '🆗🄶🄾🄾🄶🄻🄴', 'A']"
   ]
  },
  {
   "cell_type": "code",
   "execution_count": 6,
   "id": "585d403e",
   "metadata": {},
   "outputs": [],
   "source": [
    "def click(path):\n",
    "    '''\n",
    "    this function takes in a path, clicks on the card-body\n",
    "    '''\n",
    "    element = driver.find_element(By.XPATH, path)\n",
    "    element.click()"
   ]
  },
  {
   "cell_type": "code",
   "execution_count": 25,
   "id": "b400d014",
   "metadata": {},
   "outputs": [],
   "source": [
    "# element = driver.find_element(By.XPATH, '/html/body/div[5]/div/div[2]/div[2]/div[2]').click()\n",
    "\n",
    "# wait = WebDriverWait(driver, 5)  # Adjust the timeout as needed\n",
    "# element = wait.until(EC.visibility_of_element_located((By.ID, 'SR_PlayerList')))\n",
    "\n",
    "# k = driver.find_element(By.ID, 'SR_PlayerList').text\n",
    "# k = k.split(', ')\n",
    "# k"
   ]
  },
  {
   "cell_type": "code",
   "execution_count": null,
   "id": "30424066",
   "metadata": {},
   "outputs": [],
   "source": []
  },
  {
   "cell_type": "code",
   "execution_count": 28,
   "id": "8a41397e",
   "metadata": {},
   "outputs": [],
   "source": [
    "def playerfinder():\n",
    "    '''\n",
    "    searches through a box, finds the toxic players, returns the players' name, game id and game time\n",
    "    '''\n",
    "    k = driver.find_element(By.ID, 'SR_PlayerList').text\n",
    "    k = k.split(', ')\n",
    "    player_list = [x for x in k if x in cancer_list]\n",
    "    new_list = []\n",
    "    for i in player_list:\n",
    "        if i != '':\n",
    "            game_id = driver.find_element(By.ID, 'SR_ID').text\n",
    "            game_time = driver.find_element(By.ID, 'SR_Time').text\n",
    "            new_list.append((game_id, game_time))\n",
    "    return player_list, new_list"
   ]
  },
  {
   "cell_type": "code",
   "execution_count": 31,
   "id": "4ef98590",
   "metadata": {},
   "outputs": [
    {
     "name": "stdout",
     "output_type": "stream",
     "text": [
      "(['A'], [('#5773', '20 min')])\n"
     ]
    }
   ],
   "source": [
    "click('/html/body/div[5]/div/div[2]/div[2]/div[2]')\n",
    "wait = WebDriverWait(driver, 5)  # Adjust the timeout as needed\n",
    "element = wait.until(EC.visibility_of_element_located((By.ID, 'SR_PlayerList')))\n",
    "print(playerfinder())"
   ]
  },
  {
   "cell_type": "code",
   "execution_count": 32,
   "id": "4bdc438f",
   "metadata": {},
   "outputs": [],
   "source": [
    "def cardOne(path):\n",
    "    '''\n",
    "    returns the playerfinder, gametime, of 1 card\n",
    "    '''\n",
    "    click(path)\n",
    "    wait = WebDriverWait(driver, 5)  # Adjust the timeout as needed\n",
    "    element = wait.until(EC.visibility_of_element_located((By.ID, 'SR_PlayerList')))\n",
    "    x = playerfinder()\n",
    "    return x"
   ]
  },
  {
   "cell_type": "code",
   "execution_count": 33,
   "id": "9b0334a7",
   "metadata": {},
   "outputs": [
    {
     "data": {
      "text/plain": [
       "(['🆗🄶🄾🄾🄶🄻🄴'], [('#8620', '5 min')])"
      ]
     },
     "execution_count": 33,
     "metadata": {},
     "output_type": "execute_result"
    }
   ],
   "source": [
    "cardOne('/html/body/div[5]/div/div[2]/div[2]/div[1]')"
   ]
  },
  {
   "cell_type": "code",
   "execution_count": 40,
   "id": "94e59d17",
   "metadata": {},
   "outputs": [
    {
     "name": "stdout",
     "output_type": "stream",
     "text": [
      "/html/body/div[5]/div/div[2]/div[2]/div[1]\n",
      "/html/body/div[5]/div/div[2]/div[2]/div[2]\n",
      "/html/body/div[5]/div/div[2]/div[2]/div[3]\n",
      "/html/body/div[5]/div/div[2]/div[2]/div[4]\n"
     ]
    }
   ],
   "source": [
    "for i in range(1, 5):\n",
    "    xpath = f'/html/body/div[5]/div/div[2]/div[2]/div[{i}]'\n",
    "    print(xpath)"
   ]
  },
  {
   "cell_type": "code",
   "execution_count": 78,
   "id": "97ca22f3",
   "metadata": {},
   "outputs": [],
   "source": [
    "parent_element = driver.find_element(By.ID, 'systemsList')"
   ]
  },
  {
   "cell_type": "code",
   "execution_count": 93,
   "id": "d0d3990b",
   "metadata": {},
   "outputs": [
    {
     "data": {
      "text/plain": [
       "3"
      ]
     },
     "execution_count": 93,
     "metadata": {},
     "output_type": "execute_result"
    }
   ],
   "source": [
    "#systemsList [card system-list-item mb-3]\n",
    "parent_element = driver.find_element(By.ID, 'systemsList')\n",
    "child_elements = parent_element.find_elements_by_css_selector(\"#systemsList [data-system]\")\n",
    "len(child_elements)"
   ]
  },
  {
   "cell_type": "code",
   "execution_count": 94,
   "id": "597b75ec",
   "metadata": {},
   "outputs": [],
   "source": [
    "def loop():\n",
    "    parent_element = driver.find_element(By.ID, 'systemsList')\n",
    "    child_elements = parent_element.find_elements_by_css_selector(\"#systemsList [data-system]\")\n",
    "    num_games = len(child_elements)\n",
    "    empty_tuple = ([], [])\n",
    "    final_results = []\n",
    "    for i in range(1, num_games + 1):\n",
    "        xpath = f'/html/body/div[5]/div/div[2]/div[2]/div[{i}]'\n",
    "        t = cardOne(xpath)\n",
    "        if t != empty_tuple:\n",
    "            final_results.append(t)\n",
    "    return final_results\n",
    "#         return(i, t)"
   ]
  },
  {
   "cell_type": "code",
   "execution_count": 96,
   "id": "ce902e67",
   "metadata": {},
   "outputs": [
    {
     "data": {
      "text/plain": [
       "[(['🆗🄶🄾🄾🄶🄻🄴', 'A'], [('#6852', '5 min'), ('#6852', '5 min')])]"
      ]
     },
     "execution_count": 96,
     "metadata": {},
     "output_type": "execute_result"
    }
   ],
   "source": [
    "loop()"
   ]
  },
  {
   "cell_type": "code",
   "execution_count": 61,
   "id": "266de5a4",
   "metadata": {},
   "outputs": [
    {
     "ename": "SyntaxError",
     "evalue": "unexpected EOF while parsing (1348103689.py, line 2)",
     "output_type": "error",
     "traceback": [
      "\u001b[1;36m  Cell \u001b[1;32mIn[61], line 2\u001b[1;36m\u001b[0m\n\u001b[1;33m    \u001b[0m\n\u001b[1;37m    ^\u001b[0m\n\u001b[1;31mSyntaxError\u001b[0m\u001b[1;31m:\u001b[0m unexpected EOF while parsing\n"
     ]
    }
   ],
   "source": [
    "def main():\n",
    "    "
   ]
  },
  {
   "cell_type": "code",
   "execution_count": null,
   "id": "aa60b5bf",
   "metadata": {},
   "outputs": [],
   "source": []
  }
 ],
 "metadata": {
  "kernelspec": {
   "display_name": "Python 3 (ipykernel)",
   "language": "python",
   "name": "python3"
  },
  "language_info": {
   "codemirror_mode": {
    "name": "ipython",
    "version": 3
   },
   "file_extension": ".py",
   "mimetype": "text/x-python",
   "name": "python",
   "nbconvert_exporter": "python",
   "pygments_lexer": "ipython3",
   "version": "3.8.16"
  }
 },
 "nbformat": 4,
 "nbformat_minor": 5
}
