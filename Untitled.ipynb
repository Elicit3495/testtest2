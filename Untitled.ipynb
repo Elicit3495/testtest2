{
 "cells": [
  {
   "cell_type": "code",
   "execution_count": 23,
   "id": "1de915e3",
   "metadata": {},
   "outputs": [],
   "source": [
    "from selenium import webdriver\n",
    "from selenium.webdriver.common.keys import Keys\n",
    "from selenium.webdriver.common.by import By\n",
    "from selenium.webdriver.support.ui import WebDriverWait\n",
    "from selenium.webdriver.support import expected_conditions as EC\n",
    "import requests\n",
    "import json\n",
    "import time"
   ]
  },
  {
   "cell_type": "code",
   "execution_count": 2,
   "id": "88ccebf1",
   "metadata": {},
   "outputs": [],
   "source": [
    "driver = webdriver.Chrome(executable_path=r'C:\\Users\\User\\Documents\\GitHub\\starblast\\chromedriver-win64\\chromedriver.exe')"
   ]
  },
  {
   "cell_type": "code",
   "execution_count": 3,
   "id": "dbbef9ad",
   "metadata": {},
   "outputs": [],
   "source": [
    "driver.get(\"https://testtest2-seven.vercel.app/\")\n",
    "driver.find_element(By.ID,\"Asia\").click()\n",
    "driver.find_element(By.ID,\"survivalMode\").click()\n",
    "driver.find_element(By.ID,\"deathmatchMode\").click()\n",
    "driver.find_element(By.ID,\"moddingMode\").click()\n",
    "driver.find_element(By.ID,\"customMode\").click()"
   ]
  },
  {
   "cell_type": "code",
   "execution_count": 5,
   "id": "61de1e66",
   "metadata": {},
   "outputs": [],
   "source": [
    "cancer_list = ['🏆😈₭₦Ř₷⚡₭ƗLLĔŘ', 'CREAZYGAMERS', 'CANNON', 'HKTSKY', 'QL', '꧁༒•THEKING•༒꧂',\n",
    "              'ASPECT', 'ASIAN JOHN CENA', '乃卂ㄥㄥ丂', 'SPRINGBANK', '🆗🄶🄾🄾🄶🄻🄴', 'A']"
   ]
  },
  {
   "cell_type": "code",
   "execution_count": 6,
   "id": "93e93a18",
   "metadata": {},
   "outputs": [],
   "source": [
    "def click(path):\n",
    "    '''\n",
    "    this function takes in a path, clicks on the card-body\n",
    "    '''\n",
    "    element = driver.find_element(By.XPATH, path)\n",
    "    element.click()"
   ]
  },
  {
   "cell_type": "code",
   "execution_count": 25,
   "id": "94c1b94e",
   "metadata": {},
   "outputs": [],
   "source": [
    "# element = driver.find_element(By.XPATH, '/html/body/div[5]/div/div[2]/div[2]/div[2]').click()\n",
    "\n",
    "# wait = WebDriverWait(driver, 5)  # Adjust the timeout as needed\n",
    "# element = wait.until(EC.visibility_of_element_located((By.ID, 'SR_PlayerList')))\n",
    "\n",
    "# k = driver.find_element(By.ID, 'SR_PlayerList').text\n",
    "# k = k.split(', ')\n",
    "# k"
   ]
  },
  {
   "cell_type": "code",
   "execution_count": null,
   "id": "b4fa8be9",
   "metadata": {},
   "outputs": [],
   "source": []
  },
  {
   "cell_type": "code",
   "execution_count": 28,
   "id": "2318e05f",
   "metadata": {},
   "outputs": [],
   "source": [
    "def playerfinder():\n",
    "    '''\n",
    "    searches through a box, finds the toxic players, returns the players' name, game id and game time\n",
    "    '''\n",
    "    k = driver.find_element(By.ID, 'SR_PlayerList').text\n",
    "    k = k.split(', ')\n",
    "    player_list = [x for x in k if x in cancer_list]\n",
    "    new_list = []\n",
    "    for i in player_list:\n",
    "        if i != '':\n",
    "            game_id = driver.find_element(By.ID, 'SR_ID').text\n",
    "            game_time = driver.find_element(By.ID, 'SR_Time').text\n",
    "            new_list.append((game_id, game_time))\n",
    "    return player_list, new_list"
   ]
  },
  {
   "cell_type": "code",
   "execution_count": 31,
   "id": "d6af9e36",
   "metadata": {},
   "outputs": [
    {
     "name": "stdout",
     "output_type": "stream",
     "text": [
      "(['A'], [('#5773', '20 min')])\n"
     ]
    }
   ],
   "source": [
    "click('/html/body/div[5]/div/div[2]/div[2]/div[2]')\n",
    "wait = WebDriverWait(driver, 5)  # Adjust the timeout as needed\n",
    "element = wait.until(EC.visibility_of_element_located((By.ID, 'SR_PlayerList')))\n",
    "print(playerfinder())"
   ]
  },
  {
   "cell_type": "code",
   "execution_count": 32,
   "id": "071ca8c5",
   "metadata": {},
   "outputs": [],
   "source": [
    "def cardOne(path):\n",
    "    '''\n",
    "    returns the playerfinder, gametime, of 1 card\n",
    "    '''\n",
    "    click(path)\n",
    "    wait = WebDriverWait(driver, 5)  # Adjust the timeout as needed\n",
    "    element = wait.until(EC.visibility_of_element_located((By.ID, 'SR_PlayerList')))\n",
    "    x = playerfinder()\n",
    "    return x"
   ]
  },
  {
   "cell_type": "code",
   "execution_count": 33,
   "id": "be20c03b",
   "metadata": {},
   "outputs": [
    {
     "data": {
      "text/plain": [
       "(['🆗🄶🄾🄾🄶🄻🄴'], [('#8620', '5 min')])"
      ]
     },
     "execution_count": 33,
     "metadata": {},
     "output_type": "execute_result"
    }
   ],
   "source": [
    "cardOne('/html/body/div[5]/div/div[2]/div[2]/div[1]')"
   ]
  },
  {
   "cell_type": "code",
   "execution_count": 40,
   "id": "e1a8d538",
   "metadata": {},
   "outputs": [
    {
     "name": "stdout",
     "output_type": "stream",
     "text": [
      "/html/body/div[5]/div/div[2]/div[2]/div[1]\n",
      "/html/body/div[5]/div/div[2]/div[2]/div[2]\n",
      "/html/body/div[5]/div/div[2]/div[2]/div[3]\n",
      "/html/body/div[5]/div/div[2]/div[2]/div[4]\n"
     ]
    }
   ],
   "source": [
    "for i in range(1, 5):\n",
    "    xpath = f'/html/body/div[5]/div/div[2]/div[2]/div[{i}]'\n",
    "    print(xpath)"
   ]
  },
  {
   "cell_type": "code",
   "execution_count": 78,
   "id": "9ac5e1cd",
   "metadata": {},
   "outputs": [],
   "source": [
    "parent_element = driver.find_element(By.ID, 'systemsList')"
   ]
  },
  {
   "cell_type": "code",
   "execution_count": 93,
   "id": "c9a30b27",
   "metadata": {},
   "outputs": [
    {
     "data": {
      "text/plain": [
       "3"
      ]
     },
     "execution_count": 93,
     "metadata": {},
     "output_type": "execute_result"
    }
   ],
   "source": [
    "#systemsList [card system-list-item mb-3]\n",
    "parent_element = driver.find_element(By.ID, 'systemsList')\n",
    "child_elements = parent_element.find_elements_by_css_selector(\"#systemsList [data-system]\")\n",
    "len(child_elements)"
   ]
  },
  {
   "cell_type": "code",
   "execution_count": 94,
   "id": "df3307dc",
   "metadata": {},
   "outputs": [],
   "source": [
    "def loop():\n",
    "    '''\n",
    "    returns a tuple of lists which contains toxic player name and other info\n",
    "    '''\n",
    "    parent_element = driver.find_element(By.ID, 'systemsList')\n",
    "    child_elements = parent_element.find_elements_by_css_selector(\"#systemsList [data-system]\")\n",
    "    num_games = len(child_elements)\n",
    "    empty_tuple = ([], [])\n",
    "    final_results = []\n",
    "    for i in range(1, num_games + 1):\n",
    "        xpath = f'/html/body/div[5]/div/div[2]/div[2]/div[{i}]'\n",
    "        t = cardOne(xpath)\n",
    "        if t != empty_tuple:\n",
    "            final_results.append(t)\n",
    "    return final_results\n",
    "#         return(i, t)"
   ]
  },
  {
   "cell_type": "code",
   "execution_count": 98,
   "id": "e6c148bc",
   "metadata": {},
   "outputs": [
    {
     "data": {
      "text/plain": [
       "[(['🆗🄶🄾🄾🄶🄻🄴', 'HKTSKY'], [('#4116', '33 min'), ('#4116', '33 min')])]"
      ]
     },
     "execution_count": 98,
     "metadata": {},
     "output_type": "execute_result"
    }
   ],
   "source": [
    "loop()"
   ]
  },
  {
   "cell_type": "code",
   "execution_count": 131,
   "id": "0ce05e58",
   "metadata": {},
   "outputs": [],
   "source": [
    "def main():\n",
    "    cumulative_time = 0\n",
    "    \n",
    "    while True:\n",
    "        try: \n",
    "            tic = time.time()\n",
    "            loop_result = loop()\n",
    "            toc = time.time()\n",
    "            time_elapsed = toc - tic\n",
    "            cumulative_time += time_elapsed\n",
    "            print(loop_result, cumulative_time)\n",
    "            time.sleep(5)\n",
    "        except TimeoutException as e:\n",
    "            print(\"Timeout Error\")\n",
    "            print(\"retrying\")\n",
    "            continue"
   ]
  },
  {
   "cell_type": "code",
   "execution_count": null,
   "id": "a5e886c5",
   "metadata": {},
   "outputs": [
    {
     "name": "stdout",
     "output_type": "stream",
     "text": [
      "[(['CREAZYGAMERS'], [('#8316', '29 min')])] 2.396480083465576\n",
      "[(['CREAZYGAMERS'], [('#8316', '29 min')])] 4.777519941329956\n",
      "[(['CREAZYGAMERS'], [('#8316', '29 min')])] 7.126527547836304\n",
      "[(['CREAZYGAMERS'], [('#8316', '29 min')])] 9.59112811088562\n",
      "[(['CREAZYGAMERS'], [('#8316', '29 min')])] 11.976324319839478\n",
      "[(['CREAZYGAMERS'], [('#8316', '29 min')])] 14.398202180862427\n",
      "[(['CREAZYGAMERS'], [('#8316', '29 min')])] 16.751494646072388\n",
      "[(['CREAZYGAMERS'], [('#8316', '30 min')])] 19.12515115737915\n",
      "[(['CREAZYGAMERS'], [('#8316', '30 min')])] 21.478448152542114\n",
      "[(['CREAZYGAMERS'], [('#8316', '30 min')])] 23.842079401016235\n",
      "[(['CREAZYGAMERS'], [('#8316', '30 min')])] 26.22052001953125\n",
      "[(['CREAZYGAMERS'], [('#8316', '30 min')])] 28.65181541442871\n",
      "[(['CREAZYGAMERS'], [('#8316', '30 min')])] 31.06324601173401\n",
      "[(['CREAZYGAMERS'], [('#8316', '30 min')])] 33.49403238296509\n",
      "[(['CREAZYGAMERS'], [('#8316', '30 min')])] 35.903401374816895\n",
      "[(['CREAZYGAMERS'], [('#8316', '31 min')])] 38.3179247379303\n",
      "[(['CREAZYGAMERS'], [('#8316', '31 min')])] 40.737624168395996\n",
      "[(['CREAZYGAMERS'], [('#8316', '31 min')])] 43.24757790565491\n",
      "[(['CREAZYGAMERS'], [('#8316', '31 min')])] 45.74463510513306\n",
      "[(['CREAZYGAMERS'], [('#8316', '31 min')])] 48.24468183517456\n",
      "[(['CREAZYGAMERS'], [('#8316', '32 min')])] 50.71958541870117\n",
      "[(['CREAZYGAMERS'], [('#8316', '32 min')])] 53.20556831359863\n"
     ]
    }
   ],
   "source": [
    "main()"
   ]
  },
  {
   "cell_type": "code",
   "execution_count": null,
   "id": "0da22792",
   "metadata": {},
   "outputs": [],
   "source": []
  }
 ],
 "metadata": {
  "kernelspec": {
   "display_name": "Python 3 (ipykernel)",
   "language": "python",
   "name": "python3"
  },
  "language_info": {
   "codemirror_mode": {
    "name": "ipython",
    "version": 3
   },
   "file_extension": ".py",
   "mimetype": "text/x-python",
   "name": "python",
   "nbconvert_exporter": "python",
   "pygments_lexer": "ipython3",
   "version": "3.8.16"
  }
 },
 "nbformat": 4,
 "nbformat_minor": 5
}
