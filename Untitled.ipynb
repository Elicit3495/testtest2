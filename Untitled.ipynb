{
 "cells": [
  {
   "cell_type": "code",
   "execution_count": 1,
   "id": "1de915e3",
   "metadata": {},
   "outputs": [],
   "source": [
    "from selenium import webdriver\n",
    "from selenium.webdriver.common.keys import Keys\n",
    "from selenium.webdriver.common.by import By\n",
    "import requests\n",
    "import json\n",
    "import time"
   ]
  },
  {
   "cell_type": "code",
   "execution_count": 2,
   "id": "88ccebf1",
   "metadata": {},
   "outputs": [],
   "source": [
    "driver = webdriver.Chrome(executable_path=r'C:\\Users\\User\\Documents\\GitHub\\starblast\\chromedriver-win64\\chromedriver.exe')"
   ]
  },
  {
   "cell_type": "code",
   "execution_count": 3,
   "id": "dbbef9ad",
   "metadata": {},
   "outputs": [],
   "source": [
    "driver.get(\"https://testtest2-seven.vercel.app/\")\n",
    "driver.find_element(By.ID,\"Asia\").click()\n",
    "driver.find_element(By.ID,\"survivalMode\").click()\n",
    "driver.find_element(By.ID,\"deathmatchMode\").click()\n",
    "driver.find_element(By.ID,\"moddingMode\").click()\n",
    "driver.find_element(By.ID,\"customMode\").click()"
   ]
  },
  {
   "cell_type": "code",
   "execution_count": 5,
   "id": "61de1e66",
   "metadata": {},
   "outputs": [],
   "source": [
    "cancer_list = ['🏆😈₭₦Ř₷⚡₭ƗLLĔŘ', 'CREAZYGAMERS', 'CREAZYGAMES', 'CANNON', 'HKTSKY', 'QL', '꧁༒•THEKING•༒꧂',\n",
    "              'ASPECT', 'ASIAN JOHN CENA', '乃卂ㄥㄥ丂', 'SPRINGBANK', '🆗🄶🄾🄾🄶🄻🄴', 'A']"
   ]
  },
  {
   "cell_type": "code",
   "execution_count": 6,
   "id": "3a7b88ce",
   "metadata": {},
   "outputs": [],
   "source": [
    "def click(path):\n",
    "    '''\n",
    "    this function takes in a path, clicks on the card-body\n",
    "    '''\n",
    "    element = driver.find_element(By.XPATH, path)\n",
    "    element.click()"
   ]
  },
  {
   "cell_type": "code",
   "execution_count": 7,
   "id": "07624403",
   "metadata": {},
   "outputs": [],
   "source": [
    "def playerfinder():\n",
    "    '''\n",
    "    searches through a box, finds the toxic players, returns the players' name, game id and game time\n",
    "    '''\n",
    "    k = driver.find_element(By.ID, 'SR_PlayerList').text\n",
    "    k = k.split(', ')\n",
    "    player_list = [x for x in k if x in cancer_list]\n",
    "    new_list = []\n",
    "    for i in player_list:\n",
    "        if i != '':\n",
    "            game_id = driver.find_element(By.ID, 'SR_ID').text\n",
    "            game_time = driver.find_element(By.ID, 'SR_Time').text\n",
    "            new_list.append((game_id, game_time))\n",
    "    return player_list, new_list"
   ]
  },
  {
   "cell_type": "code",
   "execution_count": 8,
   "id": "1df117dd",
   "metadata": {},
   "outputs": [
    {
     "name": "stdout",
     "output_type": "stream",
     "text": [
      "([], [])\n"
     ]
    }
   ],
   "source": [
    "click('/html/body/div[5]/div/div[2]/div[2]/div[1]')\n",
    "print(playerfinder())"
   ]
  },
  {
   "cell_type": "code",
   "execution_count": null,
   "id": "d89128b0",
   "metadata": {},
   "outputs": [],
   "source": [
    "playerfinder()"
   ]
  },
  {
   "cell_type": "code",
   "execution_count": null,
   "id": "e75b7066",
   "metadata": {},
   "outputs": [],
   "source": [
    "def cardOne(path):\n",
    "    click(path)\n",
    "    x = playerfinder()\n",
    "    return x"
   ]
  },
  {
   "cell_type": "code",
   "execution_count": null,
   "id": "4438aa29",
   "metadata": {},
   "outputs": [],
   "source": [
    "cardOne('/html/body/div[5]/div/div[2]/div[2]/div[1]')"
   ]
  },
  {
   "cell_type": "code",
   "execution_count": null,
   "id": "952e663d",
   "metadata": {},
   "outputs": [],
   "source": [
    "element = driver.find_element(By.XPATH, '/html/body/div[5]/div/div[2]/div[2]/div[1]')\n",
    "element.click()\n",
    "k = driver.find_element(By.ID, 'SR_PlayerList').text\n",
    "k = k.split(', ')\n",
    "print(k)\n",
    "# player_list = [x for x in k if x in cancer_list]\n",
    "# return player_list, k"
   ]
  },
  {
   "cell_type": "code",
   "execution_count": null,
   "id": "c6dfc64a",
   "metadata": {},
   "outputs": [],
   "source": [
    "k = driver.find_element(By.ID, 'SR_PlayerList').text\n",
    "k = k.split(', ')\n",
    "k"
   ]
  },
  {
   "cell_type": "code",
   "execution_count": null,
   "id": "f6b4c508",
   "metadata": {},
   "outputs": [],
   "source": [
    "b = driver.find_element(By.ID, 'SR_PlayerList').text\n",
    "b = b.split(', ')\n",
    "b"
   ]
  },
  {
   "cell_type": "code",
   "execution_count": null,
   "id": "376dcbca",
   "metadata": {},
   "outputs": [],
   "source": [
    "player_list = [x for x in k if x in cancer_list]\n",
    "player_list"
   ]
  },
  {
   "cell_type": "code",
   "execution_count": null,
   "id": "f9ce3a47",
   "metadata": {},
   "outputs": [],
   "source": [
    "# element = driver.find_element(By.XPATH, '/html/body/div[5]/div/div[2]/div[2]/div')\n",
    "element = driver.find_element(By.XPATH, '/html/body/div[5]/div/div[2]/div[2]/div[1]')\n",
    "# element.text"
   ]
  },
  {
   "cell_type": "code",
   "execution_count": null,
   "id": "13664fdd",
   "metadata": {},
   "outputs": [],
   "source": [
    "element.text"
   ]
  },
  {
   "cell_type": "code",
   "execution_count": null,
   "id": "d170f1d5",
   "metadata": {},
   "outputs": [],
   "source": [
    "element.click()"
   ]
  },
  {
   "cell_type": "code",
   "execution_count": null,
   "id": "51d9184a",
   "metadata": {},
   "outputs": [],
   "source": [
    "new_element = driver.find_element(By.ID, 'SR_ID')\n",
    "print(new_element.text)"
   ]
  },
  {
   "cell_type": "code",
   "execution_count": null,
   "id": "e93113e5",
   "metadata": {},
   "outputs": [],
   "source": [
    "child_elements = element.find_elements(By.XPATH, \".//*\")\n",
    "for i in child_elements:\n",
    "    print(i.text)"
   ]
  },
  {
   "cell_type": "code",
   "execution_count": null,
   "id": "76d5a148",
   "metadata": {},
   "outputs": [],
   "source": [
    "timeout = 10\n",
    "try:\n",
    "    element = driver.find_element(By.ID, \"SR_PlayerList\")\n",
    "#     element2 = driver.find_element(By.ID, \"\")# Replace \"your-element-id\" with the actual ID of the element\n",
    "    # Alternatively, you can use By.CLASS_NAME to locate an element by its class.\n",
    "\n",
    "    # Extract data from the element\n",
    "    data = element.text\n",
    "    new_data = [x for x in data if x in cancer_list]\n",
    "    print(new_data)\n",
    "    print(data)\n",
    "except Exception as e:\n",
    "    print(\"error\")"
   ]
  },
  {
   "cell_type": "code",
   "execution_count": null,
   "id": "e9fdc815",
   "metadata": {},
   "outputs": [],
   "source": [
    "new_test = driver.find_elements(By.ID, \"systemsListContainer\")"
   ]
  },
  {
   "cell_type": "code",
   "execution_count": null,
   "id": "5e8d7a2f",
   "metadata": {},
   "outputs": [],
   "source": [
    "for i in new_test:\n",
    "    print(i.text)"
   ]
  },
  {
   "cell_type": "code",
   "execution_count": null,
   "id": "fa32b868",
   "metadata": {},
   "outputs": [],
   "source": [
    "#first, for every element in systemsList, click on the element\n"
   ]
  },
  {
   "cell_type": "code",
   "execution_count": null,
   "id": "def4822b",
   "metadata": {},
   "outputs": [],
   "source": [
    "# card_body = driver.find_element_by_class_name(\"card system-list-item mb-3\")\n",
    "# buttons = driver.find_elements(By.CLASS_NAME, \"card system-list-item mb-3\")\n",
    "buttons = driver.find_elements(By.ID, \"systemsList\")\n",
    "for i in buttons:\n",
    "    print(i.text)\n",
    "    i.click"
   ]
  },
  {
   "cell_type": "code",
   "execution_count": null,
   "id": "d39803d9",
   "metadata": {},
   "outputs": [],
   "source": [
    "game_name = driver.find_elements(By.ID,)"
   ]
  },
  {
   "cell_type": "code",
   "execution_count": null,
   "id": "b8d77bad",
   "metadata": {},
   "outputs": [],
   "source": [
    "popup_element = driver.find_element(By.ID, \"SR_PlayerList\")"
   ]
  },
  {
   "cell_type": "code",
   "execution_count": null,
   "id": "7954160e",
   "metadata": {},
   "outputs": [],
   "source": [
    "popup_element.text\n"
   ]
  },
  {
   "cell_type": "code",
   "execution_count": null,
   "id": "66aaa9db",
   "metadata": {},
   "outputs": [],
   "source": []
  }
 ],
 "metadata": {
  "kernelspec": {
   "display_name": "Python 3 (ipykernel)",
   "language": "python",
   "name": "python3"
  },
  "language_info": {
   "codemirror_mode": {
    "name": "ipython",
    "version": 3
   },
   "file_extension": ".py",
   "mimetype": "text/x-python",
   "name": "python",
   "nbconvert_exporter": "python",
   "pygments_lexer": "ipython3",
   "version": "3.8.16"
  }
 },
 "nbformat": 4,
 "nbformat_minor": 5
}
